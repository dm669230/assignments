{
 "cells": [
  {
   "attachments": {},
   "cell_type": "markdown",
   "metadata": {},
   "source": [
    "***ASSIGNMENT 1 PYTHON BASICS:-***\n"
   ]
  },
  {
   "attachments": {},
   "cell_type": "markdown",
   "metadata": {},
   "source": [
    "                                                *1*\n",
    "*1. In the below elements which of them are values or an expression? eg:- values can be\n",
    "integer or string and expressions will be mathematical operators.*\n",
    "\n",
    "    hello   -VALUE\n",
    "    -87.8   -VALUE \n",
    "    -       -EXPRESSION\n",
    "    /       -EXPRESSION\n",
    "    +       -EXPRESSION\n",
    "    6       -VALUE"
   ]
  },
  {
   "attachments": {},
   "cell_type": "markdown",
   "metadata": {},
   "source": [
    "                                                *2*\n",
    "*2. What is the difference between string and variable?*\n",
    "\n",
    "*STRING*-Python strings are \"immutable\" which means they cannot be changed after they are created (Java strings also use this immutable style). Since strings can't be changed, we construct *new* strings as we go to represent computed values.\n",
    "anything under double comma(\"\") treat as string in python.\n",
    "\n",
    "*VARIABLE*-A Python variable is a symbolic name that is a reference or pointer to an object. Once an object is assigned to a variable, you can refer to the object by that name. But the data itself is still contained within the object. \n",
    "For example: n = 300.\n",
    "we can not use keyword as variable like \"TRUE\" , \"while\" , \"print\" etc. "
   ]
  },
  {
   "attachments": {},
   "cell_type": "markdown",
   "metadata": {},
   "source": [
    "                                                *3*\n",
    "*3) Describe three different data types.*\n",
    "\n",
    "*Numeric*-In Python, numeric data type represent the data which has numeric value. Numeric value can be integer, floating number or even complex numbers. These values are defined as int, float and complex class in Python.\n",
    "Integers \n",
    "float\n",
    "complex number\n",
    "\n",
    "*Sequence Type*-In Python, sequence is the ordered collection of similar or different data types. Sequences allows to store multiple values in an organized and efficient fashion. There are several sequence types in Python –\n",
    "String\n",
    "List\n",
    "Tuple\n",
    "\n",
    "*Boolean*-Data type with one of the two built-in values, True or False. Boolean objects that are equal to True are truthy (true), and those equal to False are falsy (false). But non-Boolean objects can be evaluated in Boolean context as well and determined to be true or false. It is denoted by the class bool."
   ]
  },
  {
   "attachments": {},
   "cell_type": "markdown",
   "metadata": {},
   "source": [
    "                                                *4*\n",
    "*4. What is an expression made up of? What do all expressions do?*\n",
    "\n",
    "A combination of operands and operators is called an expression. The expression in Python produces some value or result after being interpreted by the Python interpreter. An expression in Python is a combination of operators and operands. An example of expression can be : x = x + 1 0 x = x + 10 x=x+10."
   ]
  },
  {
   "attachments": {},
   "cell_type": "markdown",
   "metadata": {},
   "source": [
    "                                                 *5*\n",
    "*5. This assignment statements, like spam = 10. What is the difference between an\n",
    "expression and a statement?*\n",
    "\n",
    "An expression is something that can be reduced to a value, for example \"1+3\" is an expression,\n",
    "\n",
    "spam=10, is not an expression.\n",
    "\n",
    "print(spam=10)-show error\n",
    "\n",
    "print(10+3)-give output 13(reduced value in terms of space occupation)"
   ]
  },
  {
   "attachments": {},
   "cell_type": "markdown",
   "metadata": {},
   "source": [
    "                                                    *6*\n",
    "*6. After running the following code, what does the variable bacon contain?*\n",
    "\n",
    "bacon = 22\n",
    "\n",
    "bacon + 1\n",
    "\n",
    "bacon =23 , it contains 23."
   ]
  },
  {
   "attachments": {},
   "cell_type": "markdown",
   "metadata": {},
   "source": [
    "                                                    *7*\n",
    "*7. What should the values of the following two terms be?*\n",
    "\n",
    "    'spam' + 'spamspam'     -'spamspamspam'\n",
    "\n",
    "    'spam' * 3              -'spamspamspam'"
   ]
  },
  {
   "attachments": {},
   "cell_type": "markdown",
   "metadata": {},
   "source": [
    "                                                    *8*\n",
    "*8. Why is eggs a valid variable name while 100 is invalid?*\n",
    "\n",
    "Because variable names cannot begin with a number."
   ]
  },
  {
   "attachments": {},
   "cell_type": "markdown",
   "metadata": {},
   "source": [
    "                                                    *9*\n",
    "*9. What three functions can be used to get the integer, floating-point number, or string\n",
    "version of a value?*\n",
    "\n",
    "The int() , float() , and str( ) functions will evaluate to the integer, floating-point number, and string versions of the value passed to them."
   ]
  },
  {
   "attachments": {},
   "cell_type": "markdown",
   "metadata": {},
   "source": [
    "                                                    *10*\n",
    "*10. Why does this expression cause an error? How can you fix it?*\n",
    "\n",
    "'I have eaten'+ 99 +'burritos' \n",
    "\n",
    "By making int 99 to string 99 through applying inverted comma('99')                                                              "
   ]
  },
  {
   "cell_type": "markdown",
   "metadata": {},
   "source": []
  }
 ],
 "metadata": {
  "kernelspec": {
   "display_name": "Python 3",
   "language": "python",
   "name": "python3"
  },
  "language_info": {
   "codemirror_mode": {
    "name": "ipython",
    "version": 3
   },
   "file_extension": ".py",
   "mimetype": "text/x-python",
   "name": "python",
   "nbconvert_exporter": "python",
   "pygments_lexer": "ipython3",
   "version": "3.10.0rc2"
  },
  "orig_nbformat": 4,
  "vscode": {
   "interpreter": {
    "hash": "d1b277cc57ecdb0978b6c1510d43f7b5f68e4d49a2ccda038b6c0cbe3c5e50d4"
   }
  }
 },
 "nbformat": 4,
 "nbformat_minor": 2
}
