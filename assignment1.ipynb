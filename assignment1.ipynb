{
 "cells": [
  {
   "attachments": {},
   "cell_type": "markdown",
   "metadata": {},
   "source": [
    "**1. For case sensetivity:**"
   ]
  },
  {
   "cell_type": "code",
   "execution_count": 4,
   "metadata": {},
   "outputs": [
    {
     "ename": "NameError",
     "evalue": "name 'Ten' is not defined",
     "output_type": "error",
     "traceback": [
      "\u001b[1;31m---------------------------------------------------------------------------\u001b[0m",
      "\u001b[1;31mNameError\u001b[0m                                 Traceback (most recent call last)",
      "Cell \u001b[1;32mIn [4], line 5\u001b[0m\n\u001b[0;32m      2\u001b[0m nine\u001b[39m=\u001b[39m\u001b[39m9\u001b[39m\n\u001b[0;32m      3\u001b[0m Seven\u001b[39m=\u001b[39m\u001b[39m7\u001b[39m\n\u001b[1;32m----> 5\u001b[0m \u001b[39mprint\u001b[39m(Ten)\n",
      "\u001b[1;31mNameError\u001b[0m: name 'Ten' is not defined"
     ]
    }
   ],
   "source": [
    "TEN=10\n",
    "nine=9\n",
    "Seven=7\n",
    "\n",
    "print(Ten)\n",
    "\n"
   ]
  },
  {
   "attachments": {},
   "cell_type": "markdown",
   "metadata": {},
   "source": [
    "**ii. We should not use reserved words as variable names**"
   ]
  },
  {
   "cell_type": "code",
   "execution_count": 7,
   "metadata": {},
   "outputs": [
    {
     "ename": "SyntaxError",
     "evalue": "cannot assign to True (3164610370.py, line 1)",
     "output_type": "error",
     "traceback": [
      "\u001b[1;36m  Cell \u001b[1;32mIn [7], line 1\u001b[1;36m\u001b[0m\n\u001b[1;33m    True=\"false\"\u001b[0m\n\u001b[1;37m    ^\u001b[0m\n\u001b[1;31mSyntaxError\u001b[0m\u001b[1;31m:\u001b[0m cannot assign to True\n"
     ]
    }
   ],
   "source": [
    "\n",
    "True=\"false\"\n",
    "type(True)\n",
    "print(True)"
   ]
  },
  {
   "attachments": {},
   "cell_type": "markdown",
   "metadata": {},
   "source": [
    "**iii. delete the variable print**"
   ]
  },
  {
   "cell_type": "code",
   "execution_count": 11,
   "metadata": {},
   "outputs": [
    {
     "ename": "SyntaxError",
     "evalue": "cannot delete True (1096266447.py, line 1)",
     "output_type": "error",
     "traceback": [
      "\u001b[1;36m  Cell \u001b[1;32mIn [11], line 1\u001b[1;36m\u001b[0m\n\u001b[1;33m    del (True)\u001b[0m\n\u001b[1;37m         ^\u001b[0m\n\u001b[1;31mSyntaxError\u001b[0m\u001b[1;31m:\u001b[0m cannot delete True\n"
     ]
    }
   ],
   "source": [
    "del (True)"
   ]
  },
  {
   "attachments": {},
   "cell_type": "markdown",
   "metadata": {},
   "source": [
    "**iv. calcualte the age of the user**"
   ]
  },
  {
   "cell_type": "code",
   "execution_count": 16,
   "metadata": {},
   "outputs": [
    {
     "name": "stdout",
     "output_type": "stream",
     "text": [
      "\n",
      "My name is: Vaibhav Srivastava\n",
      "I live at: Fatehpur\n",
      "Vaibhav Srivastava is of age: 23\n",
      "\n"
     ]
    }
   ],
   "source": [
    "name = str(input(\"Name: \")) \n",
    "place = str(input(\"place: \"))\n",
    "year_of_birth = int(input(\"year_of_birth: \")\n",
    ")\n",
    "age = 2022 - year_of_birth\n",
    "\n",
    "print(f\"\"\"\n",
    "My name is: {name}\n",
    "I live at: {place}\n",
    "{name} is of age: {age}\n",
    "\"\"\")"
   ]
  },
  {
   "attachments": {},
   "cell_type": "markdown",
   "metadata": {},
   "source": [
    "**v. If we mentioned the datatype of input variable, then we need to remember, while putting the value, we need to put exact mentioned datatype's value.**"
   ]
  },
  {
   "cell_type": "code",
   "execution_count": 21,
   "metadata": {},
   "outputs": [
    {
     "ename": "ValueError",
     "evalue": "invalid literal for int() with base 10: '45.4'",
     "output_type": "error",
     "traceback": [
      "\u001b[1;31m---------------------------------------------------------------------------\u001b[0m",
      "\u001b[1;31mValueError\u001b[0m                                Traceback (most recent call last)",
      "Cell \u001b[1;32mIn [21], line 2\u001b[0m\n\u001b[0;32m      1\u001b[0m x \u001b[39m=\u001b[39m \u001b[39mfloat\u001b[39m(\u001b[39minput\u001b[39m(\u001b[39m\"\u001b[39m\u001b[39mEnter value of A: \u001b[39m\u001b[39m\"\u001b[39m))\n\u001b[1;32m----> 2\u001b[0m y \u001b[39m=\u001b[39m \u001b[39mint\u001b[39;49m(\u001b[39minput\u001b[39;49m(\u001b[39m\"\u001b[39;49m\u001b[39mEnter value of B: \u001b[39;49m\u001b[39m\"\u001b[39;49m)) \n\u001b[0;32m      3\u001b[0m \u001b[39mprint\u001b[39m(x)\n\u001b[0;32m      4\u001b[0m \u001b[39mprint\u001b[39m(y)\n",
      "\u001b[1;31mValueError\u001b[0m: invalid literal for int() with base 10: '45.4'"
     ]
    }
   ],
   "source": [
    "x = float(input(\"Enter value of A: \"))\n",
    "y = int(input(\"Enter value of B: \")) \n",
    "print(x)\n",
    "print(y)\n",
    "\n",
    "print(f\"Sum of x and y is: {x+y}\")"
   ]
  },
  {
   "attachments": {},
   "cell_type": "markdown",
   "metadata": {},
   "source": [
    "**vi. We can't change an empty string to any datatype**"
   ]
  },
  {
   "cell_type": "code",
   "execution_count": 22,
   "metadata": {},
   "outputs": [
    {
     "name": "stdout",
     "output_type": "stream",
     "text": [
      "data type before: <class 'str'>, value of A: \n"
     ]
    },
    {
     "ename": "ValueError",
     "evalue": "invalid literal for int() with base 10: ''",
     "output_type": "error",
     "traceback": [
      "\u001b[1;31m---------------------------------------------------------------------------\u001b[0m",
      "\u001b[1;31mValueError\u001b[0m                                Traceback (most recent call last)",
      "Cell \u001b[1;32mIn [22], line 3\u001b[0m\n\u001b[0;32m      1\u001b[0m A \u001b[39m=\u001b[39m \u001b[39m\"\u001b[39m\u001b[39m\"\u001b[39m\n\u001b[0;32m      2\u001b[0m \u001b[39mprint\u001b[39m(\u001b[39mf\u001b[39m\u001b[39m\"\u001b[39m\u001b[39mdata type before: \u001b[39m\u001b[39m{\u001b[39;00m\u001b[39mtype\u001b[39m(A)\u001b[39m}\u001b[39;00m\u001b[39m, value of A: \u001b[39m\u001b[39m{\u001b[39;00mA\u001b[39m}\u001b[39;00m\u001b[39m\"\u001b[39m)\n\u001b[1;32m----> 3\u001b[0m A \u001b[39m=\u001b[39m \u001b[39mint\u001b[39;49m(A)\n\u001b[0;32m      4\u001b[0m \u001b[39mprint\u001b[39m(\u001b[39mf\u001b[39m\u001b[39m\"\u001b[39m\u001b[39mdata type after: \u001b[39m\u001b[39m{\u001b[39;00m\u001b[39mtype\u001b[39m(A)\u001b[39m}\u001b[39;00m\u001b[39m, value of A: \u001b[39m\u001b[39m{\u001b[39;00mA\u001b[39m}\u001b[39;00m\u001b[39m\"\u001b[39m)\n",
      "\u001b[1;31mValueError\u001b[0m: invalid literal for int() with base 10: ''"
     ]
    }
   ],
   "source": [
    "A = \"\"\n",
    "print(f\"data type before: {type(A)}, value of A: {A}\")\n",
    "A = int(A)\n",
    "print(f\"data type after: {type(A)}, value of A: {A}\")"
   ]
  },
  {
   "attachments": {},
   "cell_type": "markdown",
   "metadata": {},
   "source": [
    "***2. Take input A and B and print their sum, mul, div, square of the nos.***"
   ]
  },
  {
   "cell_type": "code",
   "execution_count": 23,
   "metadata": {},
   "outputs": [
    {
     "name": "stdout",
     "output_type": "stream",
     "text": [
      "\n",
      "The 'sum' of 8 and 2 is: 10\n",
      "The 'mul' of 8 and 2 is: 16\n",
      "The 'div' of 8 and 2 is: 4.0\n",
      "The 'square' of 8 and 2 is: 64\n"
     ]
    }
   ],
   "source": [
    "a = int(input(\"Enter 1st number: \"))\n",
    "b = int(input(\"Enter 2nd number: \"))\n",
    "\n",
    "# mathematical equations\n",
    "sum = a + b\n",
    "mul = a * b\n",
    "div = a / b\n",
    "square = a ** 2\n",
    "\n",
    "print()\n",
    "\n",
    "# printing the results\n",
    "print(f\"The 'sum' of {a} and {b} is: {sum}\")\n",
    "print(f\"The 'mul' of {a} and {b} is: {mul}\")\n",
    "print(f\"The 'div' of {a} and {b} is: {div}\")\n",
    "print(f\"The 'square' of {a} and {b} is: {square}\")"
   ]
  },
  {
   "attachments": {},
   "cell_type": "markdown",
   "metadata": {},
   "source": [
    "***3. How many reserve keywords are there in python and why we should not use them as a variable name.***"
   ]
  },
  {
   "attachments": {},
   "cell_type": "markdown",
   "metadata": {},
   "source": [
    "->There are only 33 reserve keywords in python.\n",
    "-> We shouldn't use those as variable name because if I will use those words as variable, then those might revert   in the data type of the variable, and for future use of those variable as keywords, will through an error."
   ]
  },
  {
   "attachments": {},
   "cell_type": "markdown",
   "metadata": {},
   "source": [
    "***4. Create email ids with the user inputs. in the following format -***"
   ]
  },
  {
   "cell_type": "code",
   "execution_count": 24,
   "metadata": {},
   "outputs": [
    {
     "name": "stdout",
     "output_type": "stream",
     "text": [
      "The user email id is: srivastava.vaibhav@gmail.com\n"
     ]
    }
   ],
   "source": [
    "first_name = input(\"Enter the first name: \")\n",
    "last_name = input(\"Enter the last name: \")\n",
    "\n",
    "print(f\"The user email id is: {last_name}.{first_name}@gmail.com\")"
   ]
  },
  {
   "attachments": {},
   "cell_type": "markdown",
   "metadata": {},
   "source": [
    "***5. Try to print the following lines -***"
   ]
  },
  {
   "attachments": {},
   "cell_type": "markdown",
   "metadata": {},
   "source": [
    "Hi I'm Sunny\n",
    "My address is 22\\3\n",
    "I earn 20$ daily."
   ]
  },
  {
   "cell_type": "code",
   "execution_count": 25,
   "metadata": {},
   "outputs": [
    {
     "name": "stdout",
     "output_type": "stream",
     "text": [
      "The 1st statement is: Hi I'm Sunny\n",
      "The 2nd statement is: My address is 22\\3\n",
      "The 3rd statement is: I earn 20$ daily.\n"
     ]
    }
   ],
   "source": [
    "state_1 = \"Hi I'm Sunny\"\n",
    "state_2 = \"My address is 22\\\\3\"\n",
    "state_3 = \"I earn 20$ daily.\"\n",
    "\n",
    "print(f\"The 1st statement is: {state_1}\")\n",
    "print(f\"The 2nd statement is: {state_2}\")\n",
    "print(f\"The 3rd statement is: {state_3}\")"
   ]
  },
  {
   "attachments": {},
   "cell_type": "markdown",
   "metadata": {},
   "source": [
    "***6. Take user input (name, address, date of birth etc) to fill a form for your college and print their email IDs***"
   ]
  },
  {
   "cell_type": "code",
   "execution_count": 1,
   "metadata": {},
   "outputs": [
    {
     "name": "stdout",
     "output_type": "stream",
     "text": [
      "\n",
      "Your full name: vaibhav Srivastava\n",
      "\n",
      "Your full address:- \n",
      "house_no: 75,\n",
      "Village/City name: fatehpur,\n",
      "Post Office: asti kotwali,\n",
      "Police Station: asti kotwali,\n",
      "Postal Code: 212601,\n",
      "District: fatehpur,\n",
      "State: Uttar Pradesh\n",
      "\n",
      "Your D.O.B. is: 16/08/1999\n",
      "\n",
      "The user email id is: srivastava.vaibhav@gmail.com\n"
     ]
    }
   ],
   "source": [
    "first_name = input(\"Enter your first name: \")\n",
    "last_name = input(\"Enter your last name: \")\n",
    "\n",
    "home_no = input(\"Enter your house_no: \")\n",
    "village_or_city = input(\"Enter your Village/City name: \")\n",
    "po = input(\"Enter your Post Office: \")\n",
    "ps = input(\"Enter your Police Station: \")\n",
    "pin = input(\"Enter your Postal Code: \")\n",
    "dist = input(\"Enter your District: \")\n",
    "state = input(\"Enter your State: \")\n",
    "\n",
    "dob = input(\"Enter your date of birth: \")\n",
    "\n",
    "print(f\"\\nYour full name: {first_name} {last_name}\")\n",
    "\n",
    "print()\n",
    "\n",
    "print(f\"\"\"Your full address:- \n",
    "house_no: {home_no},\n",
    "Village/City name: {village_or_city},\n",
    "Post Office: {po},\n",
    "Police Station: {ps},\n",
    "Postal Code: {pin},\n",
    "District: {dist},\n",
    "State: {state}\"\"\")\n",
    "\n",
    "print()\n",
    "\n",
    "print(f\"Your D.O.B. is: {dob}\")\n",
    "\n",
    "print()\n",
    "\n",
    "\n",
    "\n",
    "print(f\"The user email id is: {(last_name.lower())}.{(first_name.lower())}@gmail.com\")"
   ]
  },
  {
   "attachments": {},
   "cell_type": "markdown",
   "metadata": {},
   "source": [
    "***7.Convert the following -***\n"
   ]
  },
  {
   "cell_type": "markdown",
   "metadata": {},
   "source": [
    "\"22.4\" into integer\n",
    "\"22\" into complex no."
   ]
  },
  {
   "cell_type": "code",
   "execution_count": 2,
   "metadata": {},
   "outputs": [
    {
     "name": "stdout",
     "output_type": "stream",
     "text": [
      "The data type of given number is: <class 'float'>, value of x: 22.4\n",
      "After converting '22.4' into integer: 22\n",
      "\n",
      "The data type of given number is: <class 'int'>, value of x: 22\n",
      "After converting '22' into float: 22.0\n"
     ]
    }
   ],
   "source": [
    "x = 22.4\n",
    "print(f\"The data type of given number is: {type(x)}, value of x: {x}\")\n",
    "x = int(x)\n",
    "print(f\"After converting '22.4' into integer: {x}\")\n",
    "\n",
    "print()\n",
    "y = 22\n",
    "print(f\"The data type of given number is: {type(y)}, value of x: {y}\")\n",
    "y = float(y)\n",
    "print(f\"After converting '22' into float: {y}\")"
   ]
  }
 ],
 "metadata": {
  "kernelspec": {
   "display_name": "Python 3",
   "language": "python",
   "name": "python3"
  },
  "language_info": {
   "codemirror_mode": {
    "name": "ipython",
    "version": 3
   },
   "file_extension": ".py",
   "mimetype": "text/x-python",
   "name": "python",
   "nbconvert_exporter": "python",
   "pygments_lexer": "ipython3",
   "version": "3.10.0rc2 (tags/v3.10.0rc2:839d789, Sep  7 2021, 18:51:45) [MSC v.1929 64 bit (AMD64)]"
  },
  "orig_nbformat": 4,
  "vscode": {
   "interpreter": {
    "hash": "d1b277cc57ecdb0978b6c1510d43f7b5f68e4d49a2ccda038b6c0cbe3c5e50d4"
   }
  }
 },
 "nbformat": 4,
 "nbformat_minor": 2
}
